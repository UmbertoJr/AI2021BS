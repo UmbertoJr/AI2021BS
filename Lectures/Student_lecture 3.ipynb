{
 "cells": [
  {
   "cell_type": "markdown",
   "metadata": {
    "collapsed": true,
    "pycharm": {
     "name": "#%% md\n"
    }
   },
   "source": [
    "## Third Lab\n",
    "\n",
    "What we are going to do today:\n",
    "- Introduce two optimizers for local search methods\n",
    "- Use the optimizer with the methods defined before"
   ]
  },
  {
   "cell_type": "markdown",
   "metadata": {},
   "source": [
    "This cell below is simply importing some useful stuff for later"
   ]
  },
  {
   "cell_type": "code",
   "execution_count": 2,
   "metadata": {},
   "outputs": [],
   "source": [
    "import glob\n",
    "import numpy as np\n",
    "from matplotlib import pyplot as plt\n",
    "from time import time as t"
   ]
  },
  {
   "cell_type": "markdown",
   "metadata": {},
   "source": [
    "## Optimizers\n",
    "### 2opt\n",
    "As we saw last time, we have 12 problems and two have an optimal solution"
   ]
  },
  {
   "cell_type": "markdown",
   "metadata": {},
   "source": [
    "## Solution"
   ]
  },
  {
   "cell_type": "code",
   "execution_count": null,
   "metadata": {},
   "outputs": [],
   "source": [
    "import numpy as np\n",
    "\n",
    "from src.utils import compute_length\n",
    "\n",
    "\n",
    "def step2opt(solution, matrix_dist, distance):\n",
    "    seq_length = len(solution) - 1\n",
    "    tsp_sequence = np.array(solution)\n",
    "    uncrosses = 0\n",
    "    # TODO\n",
    "    for i in range(1, seq_length - 1):\n",
    "        for j in range(i + 1, seq_length):\n",
    "            new_tsp_sequence = swap2opt(tsp_sequence, i, j)\n",
    "            new_distance = distance + gain(i, j, tsp_sequence, matrix_dist)\n",
    "            if new_distance < distance:\n",
    "                uncrosses += 1\n",
    "                tsp_sequence = np.copy(new_tsp_sequence)\n",
    "                distance = new_distance\n",
    "    # END TODO\n",
    "    return tsp_sequence, distance, uncrosses\n",
    "\n",
    "\n",
    "def swap2opt(tsp_sequence, i, j):\n",
    "   # TODO\n",
    "    new_tsp_sequence = np.copy(tsp_sequence)\n",
    "    new_tsp_sequence[i:j + 1] = np.flip(tsp_sequence[i:j + 1], axis=0)  \n",
    "    # END TODO\n",
    "    return new_tsp_sequence\n",
    "\n",
    "\n",
    "def gain(i, j, tsp_sequence, matrix_dist):\n",
    "    old_link_len = (matrix_dist[tsp_sequence[i], tsp_sequence[i - 1]] + matrix_dist[\n",
    "        tsp_sequence[j], tsp_sequence[j + 1]])\n",
    "    changed_links_len = (matrix_dist[tsp_sequence[j], tsp_sequence[i - 1]] + matrix_dist[\n",
    "        tsp_sequence[i], tsp_sequence[j + 1]])\n",
    "    return - old_link_len + changed_links_len\n",
    "\n",
    "\n",
    "def loop2opt(solution, instance, max_num_of_uncrosses=10000):\n",
    "    matrix_dist = instance.dist_matrix\n",
    "    new_len = compute_length(solution, matrix_dist)\n",
    "    new_tsp_sequence = np.copy(np.array(solution))\n",
    "    uncross = 0\n",
    "    # TODO\n",
    "    while uncross < max_num_of_uncrosses:\n",
    "        new_tsp_sequence, new_reward, uncr_ = step2opt(new_tsp_sequence, matrix_dist, new_len)\n",
    "        uncross += uncr_\n",
    "        if new_reward < new_len:\n",
    "            new_len = new_reward\n",
    "        else:\n",
    "            return new_tsp_sequence.tolist(), new_len, uncross\n",
    "\n",
    "    return new_tsp_sequence.tolist(), new_len, uncross\n",
    "    # END TODO"
   ]
  },
  {
   "cell_type": "markdown",
   "metadata": {},
   "source": [
    "## Alessio Solution"
   ]
  },
  {
   "cell_type": "code",
   "execution_count": null,
   "metadata": {},
   "outputs": [],
   "source": [
    "import numpy as np\n",
    "\n",
    "from src.utils import compute_length\n",
    "\n",
    "def step2opt(solution, matrix_dist, distance):\n",
    "    seq_length = len(solution) - 1\n",
    "    tsp_sequence = np.array(solution)\n",
    "    uncrosses = 0\n",
    "    # TODO\n",
    "    best_distance = distance\n",
    "    for i in range(1, seq_length - 1):\n",
    "        for j in range(i + 1, seq_length):\n",
    "            #code here, not sure if work\n",
    "            if gain(i, j, tsp_sequence, matrix_dist) < 0:\n",
    "                tsp_sequence = swap2opt(tsp_sequence, i, j)\n",
    "                best_distance = compute_length(tsp_sequence,matrix_dist)\n",
    "                uncrosses += gain(i, j, tsp_sequence, matrix_dist)\n",
    "    # END TODO\n",
    "    return tsp_sequence, best_distance, uncrosses\n",
    "\n",
    "def swap2opt(tsp_sequence, i, j): # [1,3,2,4] i=1, j=2\n",
    "    # TODO implemented, but need to test it\n",
    "    old_tsp = np.copy(tsp_sequence) # [1,3,2,4]\n",
    "    tmp = np.copy(old_tsp[i : j+1]) #from i to j the sequence is reverses # [3,2]\n",
    "    tmp = np.flip(tmp) # [2,3]\n",
    "    new_tsp_sequence = np.copy(old_tsp)\n",
    "    new_tsp_sequence[i:j+1]=tmp # [1,2,3,4]\n",
    "    # END TODO\n",
    "    return new_tsp_sequence # [1,2,3,4]\n",
    "\n",
    "def gain(i, j, tsp_sequence, matrix_dist):\n",
    "    old_link_len = (matrix_dist[tsp_sequence[i], tsp_sequence[i - 1]] + matrix_dist[\n",
    "        tsp_sequence[j], tsp_sequence[j + 1]])\n",
    "    changed_links_len = (matrix_dist[tsp_sequence[j], tsp_sequence[i - 1]] + matrix_dist[\n",
    "        tsp_sequence[i], tsp_sequence[j + 1]])\n",
    "    return - old_link_len + changed_links_len\n",
    "\n",
    "def loop2opt(solution, instance, max_num_of_uncrosses=10000):\n",
    "    matrix_dist = instance.dist_matrix\n",
    "    new_len = compute_length(solution, matrix_dist)\n",
    "    new_tsp_sequence = np.copy(np.array(solution))\n",
    "    uncross = 0\n",
    "    # TODO\n",
    "    while uncross < max_num_of_uncrosses:\n",
    "        #code here, not sure if correct\n",
    "        tmp_solution, tmp_distance, tmp_uncross = step2opt(new_tsp_sequence,matrix_dist,new_len)\n",
    "        if tmp_distance < new_len:\n",
    "            uncross += tmp_uncross\n",
    "            new_tsp_sequence = tmp_solution\n",
    "            new_len = tmp_distance\n",
    "        else:\n",
    "            return new_tsp_sequence, new_len, uncross\n",
    "    return new_tsp_sequence, new_len, uncross\n",
    "    # END TODO\n"
   ]
  },
  {
   "cell_type": "markdown",
   "metadata": {},
   "source": [
    "#### Let's test it"
   ]
  },
  {
   "cell_type": "code",
   "execution_count": 3,
   "metadata": {},
   "outputs": [
    {
     "name": "stdout",
     "output_type": "stream",
     "text": [
      "\n",
      "\n",
      "#############################\n",
      "name: eil76\n",
      "nPoints: 76\n",
      "best_sol: 538.0\n",
      "exist optimal: True\n"
     ]
    },
    {
     "data": {
      "image/png": "[encoded data removed]",
      "text/plain": [
       "<Figure size 576x576 with 1 Axes>"
      ]
     },
     "metadata": {
      "needs_background": "light"
     },
     "output_type": "display_data"
    }
   ],
   "source": [
    "from src.io_tsp import ProblemInstance\n",
    "example_problem = \"../problems/eil76.tsp\"\n",
    "p_inst = ProblemInstance(example_problem)\n",
    "p_inst.print_info()\n",
    "p_inst.plot_data()"
   ]
  },
  {
   "cell_type": "code",
   "execution_count": 4,
   "metadata": {},
   "outputs": [],
   "source": [
    "from src.TSP_solver import TSPSolver\n",
    "from src.constructive_algorithms import (\n",
    "    random_method,\n",
    "    nearest_neighbor,\n",
    "    best_nearest_neighbor,\n",
    "    multi_fragment_mf\n",
    ")\n",
    "\n",
    "available_solvers = {\n",
    "    \"random\": random_method,\n",
    "    \"nn\":nearest_neighbor,\n",
    "    \"best_nn\":best_nearest_neighbor,\n",
    "    \"multi_fragment\": multi_fragment_mf\n",
    "}"
   ]
  },
  {
   "cell_type": "code",
   "execution_count": null,
   "metadata": {},
   "outputs": [],
   "source": [
    "solver = TSPSolver(\"nn\", p_inst, available_solvers)\n",
    "start = t()\n",
    "solver.compute_solution(return_value=False, verbose=True)\n",
    "end = t()\n",
    "\n",
    "solver.plot_solution()\n",
    "print(f\"best solution with len {solver.found_length} \\nwith a total time of {np.round(end - start, 5)} seconds\")\n",
    "print(f\"solution found has a {solver.gap} % gap\")\n",
    "\n",
    "start = t()\n",
    "solution, new_length, uncross = loop2opt(solver.solution, p_inst)\n",
    "end = t()\n",
    "print(end -  start)\n",
    "solver.method = \"nn folowed by 2 opt\"\n",
    "\n",
    "assert solver.pass_and_check_if_solution_is_valid(solution), \"Solution non valid\"\n",
    "solver.solved = True\n",
    "solver.solution = solution\n",
    "solver.plot_solution()\n",
    "solver._gap()\n",
    "print(f\" {solver.gap} % gap\")\n",
    "print(f\"with {uncross} number of uncrossed edges\")"
   ]
  },
  {
   "cell_type": "markdown",
   "metadata": {},
   "source": [
    "### 2.5opt"
   ]
  },
  {
   "cell_type": "code",
   "execution_count": null,
   "metadata": {},
   "outputs": [],
   "source": [
    "import numpy as np\n",
    "\n",
    "from src.utils import compute_length\n",
    "\n",
    "def step2dot5opt(solution, matrix_dist, distance):\n",
    "    seq_length = len(solution) - 2\n",
    "    tsp_sequence = np.array(solution)\n",
    "    uncrosses = 0\n",
    "    for i in range(1, seq_length - 1):\n",
    "        for j in range(i + 1, seq_length):\n",
    "            #TODO\n",
    "            # 2opt swap\n",
    "            two_opt_tsp_sequence = swap2opt(tsp_sequence, i, j)\n",
    "            two_opt_len = distance + gain(i, j, tsp_sequence, matrix_dist)\n",
    "            # node shift 1\n",
    "            first_shift_tsp_sequence = shift1(tsp_sequence, i, j)\n",
    "            first_shift_len = distance + shift_gain1(i, j, tsp_sequence, matrix_dist)\n",
    "            # node shift 2\n",
    "            second_shift_tsp_sequence = shift2(tsp_sequence, i, j)\n",
    "            second_shift_len = distance + shift_gain2(i, j, tsp_sequence, matrix_dist)\n",
    "\n",
    "            best_len, best_method = min([two_opt_len, first_shift_len, second_shift_len]), np.argmin(\n",
    "                [two_opt_len, first_shift_len, second_shift_len])\n",
    "            sequences = [two_opt_tsp_sequence, first_shift_tsp_sequence, second_shift_tsp_sequence]\n",
    "            if best_len < distance:\n",
    "                uncrosses += 1\n",
    "                tsp_sequence = sequences[best_method]\n",
    "                distance = best_len\n",
    "                # print(distance, best_method, [twoOpt_len, first_shift_len, second_shift_len])\n",
    "            # END TODO\n",
    "    return tsp_sequence, distance, uncrosses\n",
    "\n",
    "\n",
    "def shift1(tsp_sequence, i, j):\n",
    "    new_tsp_sequence = np.concatenate(\n",
    "        [tsp_sequence[:i], tsp_sequence[i + 1: j + 1], [tsp_sequence[i]], tsp_sequence[j + 1:]])\n",
    "    return new_tsp_sequence\n",
    "\n",
    "\n",
    "def shift_gain1(i, j, tsp_sequence, matrix_dist):\n",
    "    old_link_len = (matrix_dist[tsp_sequence[i], tsp_sequence[i - 1]] +\n",
    "                    matrix_dist[tsp_sequence[i], tsp_sequence[i + 1]] +\n",
    "                    matrix_dist[tsp_sequence[j], tsp_sequence[j + 1]])\n",
    "    changed_links_len = (matrix_dist[tsp_sequence[i - 1], tsp_sequence[i + 1]] +\n",
    "                         matrix_dist[tsp_sequence[i], tsp_sequence[j]]\n",
    "                         + matrix_dist[tsp_sequence[i], tsp_sequence[j + 1]])\n",
    "    return - old_link_len + changed_links_len\n",
    "\n",
    "\n",
    "def shift2(tsp_sequence, i, j):\n",
    "    new_tsp_sequence = np.concatenate(\n",
    "        [tsp_sequence[:i], [tsp_sequence[j]], tsp_sequence[i: j], tsp_sequence[j + 1:]])\n",
    "    return new_tsp_sequence\n",
    "\n",
    "\n",
    "def shift_gain2(i, j, tsp_sequence, matrix_dist):\n",
    "    old_link_len = (matrix_dist[tsp_sequence[i], tsp_sequence[i - 1]] + matrix_dist[\n",
    "        tsp_sequence[j], tsp_sequence[j - 1]] + matrix_dist[tsp_sequence[j], tsp_sequence[j + 1]])\n",
    "    changed_links_len = (\n",
    "            matrix_dist[tsp_sequence[j], tsp_sequence[i - 1]] + matrix_dist[tsp_sequence[i], tsp_sequence[j]] +\n",
    "            matrix_dist[tsp_sequence[j - 1], tsp_sequence[j + 1]])\n",
    "    return - old_link_len + changed_links_len\n",
    "\n",
    "\n",
    "def loop2dot5opt(solution, instance, max_num_of_changes=10000):\n",
    "    matrix_dist = instance.dist_matrix\n",
    "    actual_len = compute_length(solution, matrix_dist)\n",
    "    new_tsp_sequence = np.copy(np.array(solution))\n",
    "    uncross = 0\n",
    "    while uncross < max_num_of_changes:\n",
    "        # TODO\n",
    "        new_tsp_sequence, new_len, uncr_ = step2dot5opt(new_tsp_sequence, matrix_dist, actual_len)\n",
    "        uncross += uncr_\n",
    "        # print(new_len, uncross)\n",
    "        if new_len < actual_len:\n",
    "            actual_len = new_len\n",
    "        else:\n",
    "            return new_tsp_sequence.tolist(), new_len, uncross\n",
    "        # END TODO\n",
    "    return new_tsp_sequence.tolist(), new_len, uncross"
   ]
  },
  {
   "cell_type": "code",
   "execution_count": null,
   "metadata": {},
   "outputs": [],
   "source": [
    "solver = TSPSolver(\"nn\", p_inst, available_solvers)\n",
    "start = t()\n",
    "solver.compute_solution(return_value=False, verbose=True)\n",
    "end = t()\n",
    "\n",
    "solver.plot_solution()\n",
    "print(f\"best solution with len {solver.found_length} \\nwith a total time of {np.round(end - start, 5)} seconds\")\n",
    "print(f\"solution found has a {solver.gap} % gap\")\n",
    "\n",
    "start = t()\n",
    "solution, new_length, uncross = loop2dot5opt(solver.solution, p_inst)\n",
    "end = t()\n",
    "print(end -  start)\n",
    "solver.method = \"nn folowed by 2.5 opt\"\n",
    "\n",
    "assert solver.pass_and_check_if_solution_is_valid(solution), \"Solution non valid\"\n",
    "solver.solved = True\n",
    "solver.solution = solution\n",
    "solver.plot_solution()\n",
    "solver._gap()\n",
    "print(f\" {solver.gap} % gap\")\n",
    "print(f\"with {uncross} number of uncrossed edges\")"
   ]
  },
  {
   "cell_type": "markdown",
   "metadata": {},
   "source": [
    "### Let's analyse the performances of the optimizers and the algorithms discussed until now\n"
   ]
  },
  {
   "cell_type": "code",
   "execution_count": null,
   "metadata": {
    "scrolled": false
   },
   "outputs": [],
   "source": [
    "solver = TSPSolver(\"nn\", p_inst, available_solvers)\n",
    "start = t()\n",
    "solver.compute_solution(return_value=False, verbose=True)\n",
    "end = t()\n",
    "\n",
    "solver.plot_solution()\n",
    "print(f\"best solution with len {solver.found_length} \\nwith a total time of {np.round(end - start, 5)} seconds\")\n",
    "print(f\"solution found has a {solver.gap} % gap\")\n",
    "\n",
    "old_solution=solver.solution\n",
    "\n",
    "\n",
    "start = t()\n",
    "solution, new_length, uncross = loop2opt(old_solution, p_inst)\n",
    "end = t()\n",
    "print(end -  start)\n",
    "solver.method = \"nn folowed by 2 opt\"\n",
    "\n",
    "assert solver.pass_and_check_if_solution_is_valid(solution), \"Solution non valid\"\n",
    "solver.solved = True\n",
    "solver.solution = solution\n",
    "solver.plot_solution()\n",
    "solver._gap()\n",
    "print(f\" {solver.gap} % gap\")\n",
    "print(f\"with {uncross} number of uncrossed edges\")\n",
    "\n",
    "start = t()\n",
    "solution, new_length, uncross = loop2dot5opt(old_solution, p_inst)\n",
    "end = t()\n",
    "print(end -  start)\n",
    "solver.method = \"nn folowed by 2.5 opt\"\n",
    "\n",
    "assert solver.pass_and_check_if_solution_is_valid(solution), \"Solution non valid\"\n",
    "solver.solved = True\n",
    "solver.solution = solution\n",
    "solver.plot_solution()\n",
    "solver._gap()\n",
    "print(f\" {solver.gap} % gap\")\n",
    "print(f\"with {uncross} number of uncrossed edges\")"
   ]
  },
  {
   "cell_type": "markdown",
   "metadata": {},
   "source": [
    "### Simulated Annealing\n"
   ]
  },
  {
   "cell_type": "code",
   "execution_count": 7,
   "metadata": {},
   "outputs": [],
   "source": [
    "import numpy as np\n",
    "\n",
    "from src.utils import compute_length\n",
    "\n",
    "\n",
    "def sa(solution, instance, constant_temperature=0.95, iterations_for_each_temp=100):\n",
    "    # initial setup\n",
    "    temperature = instance.best_sol / np.sqrt(instance.nPoints)\n",
    "    current_sol = np.array(solution)\n",
    "    current_len = compute_length(solution, instance.dist_matrix)\n",
    "    best_sol = np.array(solution)\n",
    "    best_len = current_len\n",
    "\n",
    "    # main loop\n",
    "    while temperature > 0.001:\n",
    "        # TODO\n",
    "        for it in range(iterations_for_each_temp):\n",
    "            next_sol, delta_E = random_sol_from_neigh(current_sol, instance)\n",
    "            if delta_E < 0:\n",
    "                current_sol = next_sol\n",
    "                current_len += delta_E\n",
    "                if current_len < best_len:\n",
    "                    best_sol = current_sol\n",
    "                    best_len = current_len\n",
    "            else:\n",
    "                r = np.random.uniform(0, 1)\n",
    "                if r < np.exp(- delta_E / temperature):\n",
    "                    current_sol = next_sol\n",
    "                    current_len += delta_E\n",
    "\n",
    "        temperature *= constant_temperature\n",
    "    # END TODO\n",
    "    return best_sol.tolist()\n",
    "\n",
    "\n",
    "def random_sol_from_neigh(solution, instance):\n",
    "    i, j = np.random.choice(np.arange(1, len(solution) - 1), 2, replace=False)\n",
    "    i, j = np.sort([i, j])\n",
    "    return sa_swap2opt(solution, i, j), gain(i, j, solution, instance.dist_matrix)\n",
    "\n",
    "\n",
    "def sa_swap2opt(tsp_sequence, i, j):\n",
    "    new_tsp_sequence = np.copy(tsp_sequence)\n",
    "    new_tsp_sequence[i:j + 1] = np.flip(tsp_sequence[i:j + 1], axis=0)  # flip or swap ?\n",
    "    return new_tsp_sequence\n",
    "\n",
    "\n",
    "def gain(i, j, tsp_sequence, matrix_dist):\n",
    "    old_link_len = (matrix_dist[tsp_sequence[i], tsp_sequence[i - 1]] + matrix_dist[\n",
    "        tsp_sequence[j], tsp_sequence[j + 1]])\n",
    "    changed_links_len = (matrix_dist[tsp_sequence[j], tsp_sequence[i - 1]] + matrix_dist[\n",
    "        tsp_sequence[i], tsp_sequence[j + 1]])\n",
    "    return - old_link_len + changed_links_len\n"
   ]
  },
  {
   "cell_type": "markdown",
   "metadata": {},
   "source": [
    "### Jacob Solution\n"
   ]
  },
  {
   "cell_type": "code",
   "execution_count": 5,
   "metadata": {},
   "outputs": [],
   "source": [
    "import numpy as np\n",
    "\n",
    "from src.utils import compute_length\n",
    "\n",
    "\n",
    "def sa(solution, instance, constant_temperature=0.95, iterations_for_each_temp=100):\n",
    "    # initial setup\n",
    "    temperature = instance.best_sol / np.sqrt(instance.nPoints)\n",
    "    current_sol = np.array(solution)\n",
    "    current_len = compute_length(solution, instance.dist_matrix) # 10\n",
    "    best_sol = np.array(solution)\n",
    "    best_len = current_len # 10\n",
    "\n",
    "    # main loop\n",
    "    while temperature > 0.001:\n",
    "        # TODO\n",
    "        for i in range(iterations_for_each_temp):\n",
    "            next_sol, delta = random_sol_from_neigh(solution, instance) # delta = +2\n",
    "            if delta < 0:\n",
    "                current_sol = next_sol\n",
    "                current_len += delta \n",
    "                if current_len < best_len: \n",
    "                    best_sol = next_sol\n",
    "                    best_len = current_len \n",
    "            else:\n",
    "                r = np.random.uniform(0,1)\n",
    "                if r < np.exp(-delta/temperature):\n",
    "                    current_sol = next_sol \n",
    "                    current_len += delta # 12\n",
    "        temperature *= constant_temperature\n",
    "    # END TODO\n",
    "    return best_sol.tolist()\n",
    "\n",
    "\n",
    "def random_sol_from_neigh(solution, instance):\n",
    "    i, j = np.random.choice(np.arange(1, len(solution) - 1), 2, replace=False)\n",
    "    i, j = np.sort([i, j])\n",
    "    return sa_swap2opt(solution, i, j), gain(i, j, solution, instance.dist_matrix)\n",
    "\n",
    "\n",
    "def sa_swap2opt(tsp_sequence, i, j):\n",
    "    new_tsp_sequence = np.copy(tsp_sequence)\n",
    "    new_tsp_sequence[i:j + 1] = np.flip(tsp_sequence[i:j + 1], axis=0)  # flip or swap ?\n",
    "    return new_tsp_sequence\n",
    "\n",
    "\n",
    "def gain(i, j, tsp_sequence, matrix_dist):\n",
    "    old_link_len = (matrix_dist[tsp_sequence[i], tsp_sequence[i - 1]] + matrix_dist[\n",
    "        tsp_sequence[j], tsp_sequence[j + 1]])\n",
    "    changed_links_len = (matrix_dist[tsp_sequence[j], tsp_sequence[i - 1]] + matrix_dist[\n",
    "        tsp_sequence[i], tsp_sequence[j + 1]])\n",
    "    return - old_link_len + changed_links_len"
   ]
  },
  {
   "cell_type": "code",
   "execution_count": 8,
   "metadata": {
    "scrolled": true
   },
   "outputs": [
    {
     "name": "stdout",
     "output_type": "stream",
     "text": [
      "###  solving with ['nn'] ####\n",
      "Error the solution of nn for problem eil76 is not valid\n"
     ]
    },
    {
     "data": {
      "image/png": "[encoded data removed]",
      "text/plain": [
       "<Figure size 576x576 with 1 Axes>"
      ]
     },
     "metadata": {
      "needs_background": "light"
     },
     "output_type": "display_data"
    },
    {
     "name": "stdout",
     "output_type": "stream",
     "text": [
      "best solution with len 680.0 \n",
      "with a total time of 0.003 seconds\n",
      "solution found has a 26.39 % gap\n",
      "1.2137324810028076\n"
     ]
    },
    {
     "data": {
      "image/png": "[encoded data removed]",
      "text/plain": [
       "<Figure size 576x576 with 1 Axes>"
      ]
     },
     "metadata": {
      "needs_background": "light"
     },
     "output_type": "display_data"
    },
    {
     "name": "stdout",
     "output_type": "stream",
     "text": [
      " 5.76 % gap\n"
     ]
    }
   ],
   "source": [
    "solver = TSPSolver(\"nn\", p_inst, available_solvers)\n",
    "start = t()\n",
    "solver.compute_solution(return_value=False, verbose=True)\n",
    "end = t()\n",
    "\n",
    "solver.plot_solution()\n",
    "print(f\"best solution with len {solver.found_length} \\nwith a total time of {np.round(end - start, 5)} seconds\")\n",
    "print(f\"solution found has a {solver.gap} % gap\")\n",
    "\n",
    "start = t()\n",
    "solution = sa(solver.solution, p_inst)\n",
    "end = t()\n",
    "print(end -  start)\n",
    "solver.method = \"nn folowed by SA\"\n",
    "\n",
    "assert solver.pass_and_check_if_solution_is_valid(solution), \"Solution non valid\"\n",
    "solver.solved = True\n",
    "solver.solution = solution\n",
    "solver.plot_solution()\n",
    "solver._gap()\n",
    "print(f\" {solver.gap} % gap\")\n"
   ]
  }
 ],
 "metadata": {
  "kernelspec": {
   "display_name": "PyCharm (AI2020BsC)",
   "language": "python",
   "name": "pycharm-61970693"
  },
  "language_info": {
   "codemirror_mode": {
    "name": "ipython",
    "version": 3
   },
   "file_extension": ".py",
   "mimetype": "text/x-python",
   "name": "python",
   "nbconvert_exporter": "python",
   "pygments_lexer": "ipython3",
   "version": "3.8.3"
  }
 },
 "nbformat": 4,
 "nbformat_minor": 1
}
