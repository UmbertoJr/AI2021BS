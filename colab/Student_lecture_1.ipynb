{
  "nbformat": 4,
  "nbformat_minor": 0,
  "metadata": {
    "kernelspec": {
      "display_name": "PyCharm (AI2020BsC)",
      "language": "python",
      "name": "pycharm-61970693"
    },
    "language_info": {
      "codemirror_mode": {
        "name": "ipython",
        "version": 3
      },
      "file_extension": ".py",
      "mimetype": "text/x-python",
      "name": "python",
      "nbconvert_exporter": "python",
      "pygments_lexer": "ipython3",
      "version": "3.8.3"
    },
    "colab": {
      "name": "Student_lecture 1.ipynb",
      "provenance": []
    }
  },
  "cells": [
    {
      "cell_type": "code",
      "metadata": {
        "colab": {
          "base_uri": "https://localhost:8080/"
        },
        "id": "yYOThPRx3Igr",
        "outputId": "19e71c18-1473-4d5e-e56d-2e76b63d22bf"
      },
      "source": [
        "!rm -r AI2021BS\n",
        "!git clone https://github.com/UmbertoJr/AI2021BS.git"
      ],
      "execution_count": 37,
      "outputs": [
        {
          "output_type": "stream",
          "name": "stdout",
          "text": [
            "Cloning into 'AI2021BS'...\n",
            "remote: Enumerating objects: 36, done.\u001b[K\n",
            "remote: Counting objects: 100% (36/36), done.\u001b[K\n",
            "remote: Compressing objects: 100% (32/32), done.\u001b[K\n",
            "remote: Total 36 (delta 1), reused 36 (delta 1), pack-reused 0\u001b[K\n",
            "Unpacking objects: 100% (36/36), done.\n"
          ]
        }
      ]
    },
    {
      "cell_type": "markdown",
      "metadata": {
        "collapsed": true,
        "pycharm": {
          "name": "#%% md\n"
        },
        "id": "DavnOBwQ2_aL"
      },
      "source": [
        "## First Lab\n",
        "\n",
        "What we are going to do today:\n",
        "- read TSP data\n",
        "- define euclidean distance function\n",
        "- define a ProblemInstance python class \n",
        "- store nodes in an instance of the class defined before\n",
        "- plot raw data\n",
        "- generate naive solution \n",
        "- check if the solution is valid\n",
        "- evaluate solution!\n",
        "\n",
        "NOTE: I've marked all the code that you will have to fill with a `# TODO` comment\n"
      ]
    },
    {
      "cell_type": "markdown",
      "metadata": {
        "id": "A56HlsOG2_aQ"
      },
      "source": [
        "This cell below is simply importing some useful stuff for later"
      ]
    },
    {
      "cell_type": "code",
      "metadata": {
        "id": "-c-1eDC92_aS"
      },
      "source": [
        "import glob\n",
        "import numpy as np\n",
        "from matplotlib import pyplot as plt"
      ],
      "execution_count": 38,
      "outputs": []
    },
    {
      "cell_type": "markdown",
      "metadata": {
        "id": "eg1ejN9z2_aT"
      },
      "source": [
        "### Read TSP data\n",
        "In this Cup you will have to deal with predefined set of problems. These problems are located in the `problems` folder.\n",
        "\n",
        "First lets get list them out"
      ]
    },
    {
      "cell_type": "code",
      "metadata": {
        "colab": {
          "base_uri": "https://localhost:8080/"
        },
        "id": "Nlp4SeQw2_aU",
        "outputId": "50cd8493-c913-4766-99ce-124a38d8769c"
      },
      "source": [
        "problems = glob.glob('AI2021BS/problems/*.tsp')\n",
        "# example_problem = [\"AI2021BS/problems/eil76.tsp\"]\n",
        "for prob in problems:\n",
        "    print(prob[18:])"
      ],
      "execution_count": 39,
      "outputs": [
        {
          "output_type": "stream",
          "name": "stdout",
          "text": [
            "pr439.tsp\n",
            "fl1577.tsp\n",
            "rat783.tsp\n",
            "eil76.tsp\n",
            "kroA100.tsp\n",
            "d198.tsp\n",
            "ch130.tsp\n",
            "lin318.tsp\n",
            "u1060.tsp\n",
            "pcb442.tsp\n"
          ]
        }
      ]
    },
    {
      "cell_type": "markdown",
      "metadata": {
        "id": "lBojG9WC2_aV"
      },
      "source": [
        "Checking by hand if all of the 10 problems are in the folder would be a waste of time so we can write a line of code just to check if they are all there"
      ]
    },
    {
      "cell_type": "code",
      "metadata": {
        "colab": {
          "base_uri": "https://localhost:8080/"
        },
        "id": "VEPTGiM72_aW",
        "outputId": "836385b9-c7c9-43b0-d90c-f36aa98ee5e9"
      },
      "source": [
        "print(np.all([n[18:] in ['fl1577.tsp','pr439.tsp','ch130.tsp','rat783.tsp','d198.tsp', 'kroA100.tsp','u1060.tsp','lin318.tsp','eil76.tsp','pcb442.tsp'] for n in problems]))"
      ],
      "execution_count": 40,
      "outputs": [
        {
          "output_type": "stream",
          "name": "stdout",
          "text": [
            "True\n"
          ]
        }
      ]
    },
    {
      "cell_type": "markdown",
      "metadata": {
        "id": "AidTvgtd2_aW"
      },
      "source": [
        "#### File format\n",
        "All the problems are stored in a `.tsp` (this file is actually a renamed `.txt` file, so you could open them with your favorite text editor)\n",
        "\n",
        "As we will see in a bit all the problems files are composed of different sections:\n",
        "* `NAME`: the shortned name of the problem\n",
        "* `COMMENT`: a comment area that can contain the full name of the problem\n",
        "* `TYPE`: this defines the type of problem at hand, in our case is always TSP\n",
        "* `DIMENSION`: this states the problem dimension\n",
        "* `EDGE_WEIGHT_TYPE`: this section states the types of weights applied to edges, in our case it is always EUC_2D or the weights are giveng using the euclidean distance in 2 dimension\n",
        "* `BEST_KNOWN`: this states the best known result obtained, note that as the Prof said, it is unlikely to get a better performance than this\n",
        "* `NODE_COORD_SECTION`: finally we have the section that states the triplets that defines the problems points. These triplets are (point_number, x,y).\n",
        "\n",
        "Now that we know all of that, lets print the content of a single problem"
      ]
    },
    {
      "cell_type": "code",
      "metadata": {
        "colab": {
          "base_uri": "https://localhost:8080/"
        },
        "id": "5PJZzhc42_aX",
        "outputId": "357135dc-2654-4e53-962d-666259f7de37"
      },
      "source": [
        "example_problem = \"AI2021BS/problems/eil76.tsp\"\n",
        "with open(example_problem,\"r\") as exprob:\n",
        "    print(exprob.read().splitlines())"
      ],
      "execution_count": 41,
      "outputs": [
        {
          "output_type": "stream",
          "name": "stdout",
          "text": [
            "['NAME : eil76', 'COMMENT : 76-city problem (Christofides/Eilon)', 'TYPE : TSP', 'DIMENSION : 76', 'EDGE_WEIGHT_TYPE : EUC_2D', 'BEST_KNOWN : 538', 'NODE_COORD_SECTION', '1 22 22', '2 36 26', '3 21 45', '4 45 35', '5 55 20', '6 33 34', '7 50 50', '8 55 45', '9 26 59', '10 40 66', '11 55 65', '12 35 51', '13 62 35', '14 62 57', '15 62 24', '16 21 36', '17 33 44', '18 9 56', '19 62 48', '20 66 14', '21 44 13', '22 26 13', '23 11 28', '24 7 43', '25 17 64', '26 41 46', '27 55 34', '28 35 16', '29 52 26', '30 43 26', '31 31 76', '32 22 53', '33 26 29', '34 50 40', '35 55 50', '36 54 10', '37 60 15', '38 47 66', '39 30 60', '40 30 50', '41 12 17', '42 15 14', '43 16 19', '44 21 48', '45 50 30', '46 51 42', '47 50 15', '48 48 21', '49 12 38', '50 15 56', '51 29 39', '52 54 38', '53 55 57', '54 67 41', '55 10 70', '56 6 25', '57 65 27', '58 40 60', '59 70 64', '60 64 4', '61 36 6', '62 30 20', '63 20 30', '64 15 5', '65 50 70', '66 57 72', '67 45 42', '68 38 33', '69 50 4', '70 66 8', '71 59 5', '72 35 60', '73 27 24', '74 40 20', '75 40 37', '76 40 40', 'EOF']\n"
          ]
        }
      ]
    },
    {
      "cell_type": "markdown",
      "metadata": {
        "id": "CRy8bEen2_aY"
      },
      "source": [
        "### Euclidean Distance\n",
        "Since all of our problems are using the euclidean distance between points for the edges weights.\n",
        "We will now define a function that computes the euclidean distance. This distance will also be used to build the distance matrix"
      ]
    },
    {
      "cell_type": "code",
      "metadata": {
        "id": "HvawRPVl2_aZ"
      },
      "source": [
        "def distance_euc(point_i, point_j):\n",
        "    rounding = 0\n",
        "    x_i, y_i = point_i[0], point_i[1]\n",
        "    x_j, y_j = point_j[0], point_j[1]\n",
        "    distance = np.sqrt((x_i - x_j) ** 2 + (y_i - y_j) ** 2)\n",
        "    return round(distance, rounding)"
      ],
      "execution_count": 42,
      "outputs": []
    },
    {
      "cell_type": "markdown",
      "metadata": {
        "id": "lB3WL3mj2_aZ"
      },
      "source": [
        "Let's test it"
      ]
    },
    {
      "cell_type": "code",
      "metadata": {
        "colab": {
          "base_uri": "https://localhost:8080/"
        },
        "id": "SqcLycl12_ab",
        "outputId": "44fc909a-ee06-43d6-dff1-cff3b1b956c6"
      },
      "source": [
        "point_1 = (2, 2)\n",
        "point_2 = (5, 5)\n",
        "distance_euc(point_1, point_2)\n",
        "# Expected output is 4.0 with rounding to 0 "
      ],
      "execution_count": 43,
      "outputs": [
        {
          "output_type": "execute_result",
          "data": {
            "text/plain": [
              "4.0"
            ]
          },
          "metadata": {},
          "execution_count": 43
        }
      ]
    },
    {
      "cell_type": "markdown",
      "metadata": {
        "id": "VHbmBUD02_ab"
      },
      "source": [
        "### Reading and storing the data\n",
        "We will now define a Class called `ProblemInstance`\n",
        "\n",
        "in the Constructor of the class (`__init__()`method of a class in Python) you will have to implement the code for:\n",
        "* reading the raw data\n",
        "* store the metadata\n",
        "* read all the point and store them\n",
        "* code the method that creates the distance matrix between points\n",
        "* \\[optional\\] check if the problem loaded has an optimal and in that case store the optimal solution\n",
        "* \\[optional\\] code the plotting method\n"
      ]
    },
    {
      "cell_type": "code",
      "metadata": {
        "id": "E8B2pHBa2_ac"
      },
      "source": [
        "from AI2021BS.src.utils import distance_euc\n",
        "\n",
        "class ProblemInstance:\n",
        "\n",
        "    def __init__(self, name_tsp):\n",
        "        self.exist_opt = False\n",
        "        self.optimal_tour = None\n",
        "        self.dist_matrix = None\n",
        "        \n",
        "        # read raw data  \n",
        "        # TODO\n",
        "        self.lines = [None]\n",
        "\n",
        "        # store metadata set information \n",
        "        # TODO\n",
        "        self.name = \"\"\n",
        "        # here we expect the name of the problem\n",
        "        self.nPoints = 0\n",
        "        # here the lenght of the best solution\n",
        "        self.best_sol = None\n",
        "        \n",
        "        # read all data points and store them \n",
        "        # TODO\n",
        "        self.points = np.zeros((self.nPoints, 3)) # this is the structure where we will store the pts data \n",
        "        \n",
        "\n",
        "        self.create_dist_matrix()\n",
        "        \n",
        "        # TODO [optional]\n",
        "        # if the problem is one with a optimal solution, that solution is loaded\n",
        "        self.optimal_tour = np.zeros(self.nPoints, dtype=np.int)\n",
        "        if name_tsp in [\"AI2021BS/problems/eil76.tsp\", \"AI2021BS/problems/kroA100.tsp\"]:\n",
        "            self.exist_opt = True\n",
        "            file_object = open(name_tsp.replace(\".tsp\", \".opt.tour\"))\n",
        "            data = file_object.read()\n",
        "            file_object.close()\n",
        "            lines = data.splitlines()\n",
        "\n",
        "            # read all data points and store them\n",
        "            \n",
        "\n",
        "\n",
        "    def print_info(self):\n",
        "        print(\"\\n#############################\\n\")\n",
        "        print('name: ' + self.name)\n",
        "        print('nPoints: ' + str(self.nPoints))\n",
        "        print('best_sol: ' + str(self.best_sol))\n",
        "        print('exist optimal: ' + str(self.exist_opt))\n",
        "\n",
        "    def plot_data(self,show_numbers=False):\n",
        "        plt.figure(figsize=(8, 8))\n",
        "        plt.title(self.name)\n",
        "        plt.scatter(self.points[:, 1], self.points[:, 2])\n",
        "        if show_numbers:\n",
        "            for i, txt in enumerate(np.arange(self.nPoints)): \n",
        "                plt.annotate(txt, (self.points[i, 1], self.points[i, 2]))\n",
        "        plt.show()\n",
        "\n",
        "    def create_dist_matrix(self): # TODO\n",
        "        self.dist_matrix = np.zeros((self.nPoints, self.nPoints))\n",
        "        for i in range(self.nPoints):\n",
        "            for j in range(i, self.nPoints):\n",
        "                self.dist_matrix[i, j] = distance_euc(self.points[i][1:3], self.points[j][1:3])\n",
        "        self.dist_matrix += self.dist_matrix.T\n",
        "        self.dist_matrix /= 2\n"
      ],
      "execution_count": 49,
      "outputs": []
    },
    {
      "cell_type": "markdown",
      "metadata": {
        "id": "APxM3ouk2_ad"
      },
      "source": [
        "------------------------\n",
        "Now we can test our Class with an example problem"
      ]
    },
    {
      "cell_type": "code",
      "metadata": {
        "id": "BEAe-Jn72_ad"
      },
      "source": [
        "example_problem = \"AI2021BS/problems/eil76.tsp\"\n",
        "p_inst=ProblemInstance(example_problem)"
      ],
      "execution_count": 50,
      "outputs": []
    },
    {
      "cell_type": "code",
      "metadata": {
        "colab": {
          "base_uri": "https://localhost:8080/",
          "height": 626
        },
        "id": "FRsAqqHr2_ae",
        "outputId": "9ee4b8aa-b95c-438c-f541-5bd34f74c12c"
      },
      "source": [
        "p_inst.print_info()\n",
        "p_inst.plot_data()\n",
        "#Expected output\n",
        "\"\"\"\n",
        "#############################\n",
        "\n",
        "name: eil76\n",
        "nPoints: 76\n",
        "best_sol: 538.0\n",
        "exist optimal: True\n",
        "\n",
        "\"\"\""
      ],
      "execution_count": 51,
      "outputs": [
        {
          "output_type": "stream",
          "name": "stdout",
          "text": [
            "\n",
            "#############################\n",
            "\n",
            "name: \n",
            "nPoints: 0\n",
            "best_sol: None\n",
            "exist optimal: True\n"
          ]
        },
        {
          "output_type": "display_data",
          "data": {
            "image/png": "[encoded data removed]",
            "text/plain": [
              "<Figure size 576x576 with 1 Axes>"
            ]
          },
          "metadata": {
            "needs_background": "light"
          }
        },
        {
          "output_type": "execute_result",
          "data": {
            "application/vnd.google.colaboratory.intrinsic+json": {
              "type": "string"
            },
            "text/plain": [
              "'\\n#############################\\n\\nname: eil76\\nnPoints: 76\\nbest_sol: 538.0\\nexist optimal: True\\n\\n'"
            ]
          },
          "metadata": {},
          "execution_count": 51
        }
      ]
    },
    {
      "cell_type": "code",
      "metadata": {
        "scrolled": false,
        "colab": {
          "base_uri": "https://localhost:8080/",
          "height": 483
        },
        "id": "yq0ANvoC2_ae",
        "outputId": "a96a031b-3301-4d3e-ea08-e0eb47830ba8"
      },
      "source": [
        "p_inst.plot_data(show_numbers=True)"
      ],
      "execution_count": 52,
      "outputs": [
        {
          "output_type": "display_data",
          "data": {
            "image/png": "[encoded data removed]",
            "text/plain": [
              "<Figure size 576x576 with 1 Axes>"
            ]
          },
          "metadata": {
            "needs_background": "light"
          }
        }
      ]
    },
    {
      "cell_type": "markdown",
      "metadata": {
        "id": "WjCTdGdK2_af"
      },
      "source": [
        "-------------\n",
        "### Random solver \n",
        "Now we will code the random solver and test it with a class called `SolverTSP` that takes the solvers and the problem instance and act as a framework to compute the solution and gives us some additional information.\n",
        "We will also need to code the `evaluate_solution` method of the the `SolverTSP` class"
      ]
    },
    {
      "cell_type": "code",
      "metadata": {
        "id": "K-jm3cj42_af"
      },
      "source": [
        "import random\n",
        "\n",
        "def random_method(instance_): # TODO\n",
        "    return \n",
        "    \n",
        "available_methods = {\"random\": random_method}"
      ],
      "execution_count": 53,
      "outputs": []
    },
    {
      "cell_type": "code",
      "metadata": {
        "id": "7rtm0PHg2_af"
      },
      "source": [
        "from time import time as t\n",
        "\n",
        "class SolverTSP:\n",
        "    def __init__(self, algorithm_name, problem_instance):\n",
        "        self.duration = np.inf\n",
        "        self.found_length = np.inf\n",
        "        self.algorithm_name = algorithm_name\n",
        "        self.name_method = \"initialized with \" + algorithm_name\n",
        "        self.solved = False\n",
        "        self.problem_instance = problem_instance\n",
        "        self.solution = None\n",
        "\n",
        "    def compute_solution(self, verbose=True, return_value=True):\n",
        "        self.solved = False\n",
        "        if verbose:\n",
        "            print(f\"###  solving with {self.algorithm_name}  ####\")\n",
        "        start_time = t()\n",
        "        self.solution = available_methods[self.algorithm_name](self.problem_instance)\n",
        "        assert self.check_if_solution_is_valid(self.solution), \"Error the solution is not valid\"\n",
        "        end_time = t()\n",
        "        self.duration = np.around(end_time - start_time, 3)\n",
        "        if verbose:\n",
        "            print(f\"###  solved  ####\")\n",
        "        self.solved = True\n",
        "        self.evaluate_solution()\n",
        "        self._gap()\n",
        "        if return_value:\n",
        "            return self.solution\n",
        "\n",
        "    def plot_solution(self):\n",
        "        assert self.solved, \"You can't plot the solution, you need to compute it first!\"\n",
        "        plt.figure(figsize=(8, 8))\n",
        "        self._gap()\n",
        "        plt.title(f\"{self.problem_instance.name} solved with {self.name_method} solver, gap {self.gap}\")\n",
        "        ordered_points = self.problem_instance.points[self.solution]\n",
        "        plt.plot(ordered_points[:, 1], ordered_points[:, 2], 'b-')\n",
        "        plt.show()\n",
        "\n",
        "    def check_if_solution_is_valid(self, solution):\n",
        "        rights_values = np.sum([self.check_validation(i, solution) for i in np.arange(self.problem_instance.nPoints)])\n",
        "        if  rights_values == self.problem_instance.nPoints:\n",
        "            return True\n",
        "        else:\n",
        "            return False \n",
        "        \n",
        "    def check_validation(self, node , solution):\n",
        "         if np.sum(solution == node) == 1:\n",
        "            return 1\n",
        "         else:\n",
        "            return 0\n",
        "\n",
        "    def evaluate_solution(self, return_value=False):\n",
        "        total_length = 0\n",
        "        from_node_id = self.solution[0] # starting_node\n",
        "        # TODO\n",
        "        \n",
        "        \n",
        "        \n",
        "        if return_value:\n",
        "            return total_length\n",
        "\n",
        "    def _gap(self):\n",
        "        self.evaluate_solution(return_value=False)\n",
        "        self.gap = np.round(\n",
        "            ((self.found_length - self.problem_instance.best_sol) / self.problem_instance.best_sol) * 100, 2)\n"
      ],
      "execution_count": 54,
      "outputs": []
    },
    {
      "cell_type": "markdown",
      "metadata": {
        "id": "umtC2uwz2_ag"
      },
      "source": [
        "----------------------------\n",
        "Now we will test our code"
      ]
    },
    {
      "cell_type": "code",
      "metadata": {
        "colab": {
          "base_uri": "https://localhost:8080/",
          "height": 53
        },
        "id": "PT-rZMKf2_ag",
        "outputId": "afb681dd-302d-4581-cbfa-21d8f38ed220"
      },
      "source": [
        "\n",
        "# here I'm repeating this two lines just to remind you which problem we are using\n",
        "example_problem = \"AI2021BS/problems/eil76.tsp\"\n",
        "p_inst = ProblemInstance(example_problem)\n",
        "available_methods = {\"random\": random_method}\n",
        "solver_name=\"random\"\n",
        "# TODO\n",
        "# 1. create an instance of SolverTSP\n",
        "\n",
        "# 2. compute a solution\n",
        "\n",
        "# 3. print the information as for the output\n",
        "# print(\"the total length for the solution found is\" + solver.solution)\n",
        "\n",
        "# 4. plot the solution\n",
        "\n",
        "# this is the output expected and after that the solution's plot\n",
        "\"\"\"\n",
        "###  solving with random  ####\n",
        "###  solved  ####\n",
        "the total length for the solution found is 2424.0\n",
        "while the optimal length is 538.0\n",
        "the gap is 350.56%\n",
        "the solution is found in 0.0 seconds\n",
        "\"\"\""
      ],
      "execution_count": 55,
      "outputs": [
        {
          "output_type": "execute_result",
          "data": {
            "application/vnd.google.colaboratory.intrinsic+json": {
              "type": "string"
            },
            "text/plain": [
              "'\\n###  solving with random  ####\\n###  solved  ####\\nthe total length for the solution found is 2424.0\\nwhile the optimal length is 538.0\\nthe gap is 350.56%\\nthe solution is found in 0.0 seconds\\n'"
            ]
          },
          "metadata": {},
          "execution_count": 55
        }
      ]
    },
    {
      "cell_type": "markdown",
      "metadata": {
        "id": "8dUGFPw32_ag"
      },
      "source": [
        "--------------------\n",
        "Finally since our example problem has an optimal solution we can plot it"
      ]
    },
    {
      "cell_type": "code",
      "metadata": {
        "id": "x4cGJOqB2_ag"
      },
      "source": [
        "# solver = SolverTSP(\"optimal\", p_inst)\n",
        "# solver.solved = True\n",
        "# solver.solution = np.concatenate([p_inst.optimal_tour, [p_inst.optimal_tour[0]]])\n",
        "# solver.plot_solution()"
      ],
      "execution_count": 57,
      "outputs": []
    }
  ]
}